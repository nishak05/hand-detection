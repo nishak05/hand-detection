{
  "nbformat": 4,
  "nbformat_minor": 0,
  "metadata": {
    "colab": {
      "provenance": []
    },
    "kernelspec": {
      "name": "python3",
      "display_name": "Python 3"
    },
    "language_info": {
      "name": "python"
    }
  },
  "cells": [
    {
      "cell_type": "code",
      "execution_count": null,
      "metadata": {
        "id": "7-jKRneh5Vat"
      },
      "outputs": [],
      "source": [
        "import cv2\n",
        "import mediapipe as mp"
      ]
    },
    {
      "cell_type": "code",
      "source": [
        "mp_drawing=mp.solutions.drawing_utils\n",
        "mp_drawing_styles=mp.solutions.drawing_styles"
      ],
      "metadata": {
        "id": "aulAX1WA5e1r"
      },
      "execution_count": null,
      "outputs": []
    },
    {
      "cell_type": "code",
      "source": [
        "mphands=mp.solutions.hands"
      ],
      "metadata": {
        "id": "BorsWXax5ha1"
      },
      "execution_count": null,
      "outputs": []
    },
    {
      "cell_type": "code",
      "source": [
        "cap=cv2.VideoCapture(0)\n",
        "hands=mphands.Hands()"
      ],
      "metadata": {
        "id": "HsDsncFB5mQr"
      },
      "execution_count": null,
      "outputs": []
    },
    {
      "cell_type": "code",
      "source": [
        "while True:\n",
        "    data,img=cap.read()\n",
        "    img=cv2.cvtColor(cv2.flip(img,1),cv2.COLOR_BGR2RGB)\n",
        "    results=hands.process(img)\n",
        "    img=cv2.cvtColor(img,cv2.COLOR_RGB2BGR)\n",
        "    if results.multi_hand_landmarks:\n",
        "        for hand_landmarks in results.multi_hand_landmarks:\n",
        "            mp_drawing.draw_landmarks(\n",
        "                img,\n",
        "                hand_landmarks,mphands.HAND_CONNECTIONS)\n",
        "\n",
        "    cv2.imshow('HandTracker',img)\n",
        "    if cv2.waitKey(1) & 0xFF ==ord('q'):\n",
        "        break"
      ],
      "metadata": {
        "id": "krStBo8C5qTU"
      },
      "execution_count": null,
      "outputs": []
    },
    {
      "cell_type": "code",
      "source": [
        "cap.release()\n",
        "cv2.destroyAllWindows()"
      ],
      "metadata": {
        "id": "HDd9GBEe5tIz"
      },
      "execution_count": null,
      "outputs": []
    }
  ]
}